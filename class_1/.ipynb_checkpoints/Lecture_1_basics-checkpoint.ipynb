{
 "cells": [
  {
   "cell_type": "code",
   "execution_count": null,
   "metadata": {
    "executionInfo": {
     "elapsed": 739,
     "status": "ok",
     "timestamp": 1715922691643,
     "user": {
      "displayName": "Raymond Zhang",
      "userId": "05735583802406577666"
     },
     "user_tz": 420
    },
    "id": "AYBS--Xh_QOT"
   },
   "outputs": [],
   "source": [
    "import pandas as pd\n",
    "import matplotlib.pyplot as plt"
   ]
  },
  {
   "cell_type": "markdown",
   "metadata": {
    "id": "qOwogpzCE3Xy"
   },
   "source": [
    "https://pandas.pydata.org/docs/getting_started/index.html\n",
    "Documentation page"
   ]
  },
  {
   "cell_type": "code",
   "execution_count": null,
   "metadata": {
    "colab": {
     "base_uri": "https://localhost:8080/",
     "height": 206
    },
    "executionInfo": {
     "elapsed": 333,
     "status": "ok",
     "timestamp": 1715922781878,
     "user": {
      "displayName": "Raymond Zhang",
      "userId": "05735583802406577666"
     },
     "user_tz": 420
    },
    "id": "7BrtS7a7_c7Y",
    "outputId": "59973f09-a543-41a8-dbcb-bbd210947d3e"
   },
   "outputs": [],
   "source": [
    "df = pd.read_csv('https://www.statlearning.com/s/Advertising.csv')\n",
    "\n",
    "\n",
    "# display the first 5 rows\n",
    "df.head()"
   ]
  },
  {
   "cell_type": "code",
   "execution_count": null,
   "metadata": {
    "colab": {
     "base_uri": "https://localhost:8080/"
    },
    "executionInfo": {
     "elapsed": 167,
     "status": "ok",
     "timestamp": 1715922812025,
     "user": {
      "displayName": "Raymond Zhang",
      "userId": "05735583802406577666"
     },
     "user_tz": 420
    },
    "id": "KPDjXY-JBRaK",
    "outputId": "3df07524-f227-4c87-d53c-a91329be19ae"
   },
   "outputs": [],
   "source": [
    "\n",
    "# check the shape of the DataFrame (rows, columns)\n",
    "df.shape"
   ]
  },
  {
   "cell_type": "markdown",
   "metadata": {
    "id": "X8s0I79QBgG6"
   },
   "source": [
    "* TV: advertising dollars spent on TV for a single product in a given market (in\n",
    "thousands of dollars)\n",
    "* Radio: advertising dollars spent on Radio\n",
    "* Newspaper: advertising dollars spent on Newspaper\n",
    "* Sales: sales of a single product in a given market (in thousands of items)"
   ]
  },
  {
   "cell_type": "code",
   "execution_count": null,
   "metadata": {
    "colab": {
     "base_uri": "https://localhost:8080/"
    },
    "executionInfo": {
     "elapsed": 148,
     "status": "ok",
     "timestamp": 1715922921646,
     "user": {
      "displayName": "Raymond Zhang",
      "userId": "05735583802406577666"
     },
     "user_tz": 420
    },
    "id": "sNKdOqQ2CA5F",
    "outputId": "0d97ab2a-0f05-4f2c-bfdd-eab82ab64934"
   },
   "outputs": [],
   "source": [
    "df.info()"
   ]
  },
  {
   "cell_type": "code",
   "execution_count": null,
   "metadata": {
    "id": "utZReewnCOuz"
   },
   "outputs": [],
   "source": [
    "df.describe()"
   ]
  },
  {
   "cell_type": "code",
   "execution_count": null,
   "metadata": {
    "colab": {
     "base_uri": "https://localhost:8080/"
    },
    "executionInfo": {
     "elapsed": 170,
     "status": "ok",
     "timestamp": 1715923077256,
     "user": {
      "displayName": "Raymond Zhang",
      "userId": "05735583802406577666"
     },
     "user_tz": 420
    },
    "id": "yNedlnTJCTSW",
    "outputId": "ae07711b-0bc2-40a1-eaf0-9e5bc3cecf47"
   },
   "outputs": [],
   "source": [
    "# Accessing a specific row by label\n",
    "print(df.loc[0])\n",
    "\n",
    "# Accessing a specific column by label\n",
    "print(df.loc[0:4, 'TV'])\n",
    "\n",
    "# Accessing a specific row by integer index\n",
    "#print(df.iloc[0])\n",
    "\n",
    "# Accessing a specific column by integer index\n",
    "#print(df.iloc[:, 0])"
   ]
  },
  {
   "cell_type": "code",
   "execution_count": null,
   "metadata": {
    "colab": {
     "base_uri": "https://localhost:8080/",
     "height": 430
    },
    "executionInfo": {
     "elapsed": 789,
     "status": "ok",
     "timestamp": 1715923104082,
     "user": {
      "displayName": "Raymond Zhang",
      "userId": "05735583802406577666"
     },
     "user_tz": 420
    },
    "id": "q6Px8x8KCaMz",
    "outputId": "24171920-f623-4559-b3c6-3b80a2adbef3"
   },
   "outputs": [],
   "source": [
    "df.plot()\n",
    "plt.show()"
   ]
  },
  {
   "cell_type": "code",
   "execution_count": null,
   "metadata": {
    "colab": {
     "base_uri": "https://localhost:8080/",
     "height": 452
    },
    "executionInfo": {
     "elapsed": 1035,
     "status": "ok",
     "timestamp": 1715923129531,
     "user": {
      "displayName": "Raymond Zhang",
      "userId": "05735583802406577666"
     },
     "user_tz": 420
    },
    "id": "fp_wm6z7CicA",
    "outputId": "8b8be2ca-0685-489d-c22a-5345068c8b55"
   },
   "outputs": [],
   "source": [
    "df.hist()\n",
    "plt.show()"
   ]
  },
  {
   "cell_type": "code",
   "execution_count": null,
   "metadata": {
    "colab": {
     "base_uri": "https://localhost:8080/",
     "height": 449
    },
    "executionInfo": {
     "elapsed": 395,
     "status": "ok",
     "timestamp": 1715923387235,
     "user": {
      "displayName": "Raymond Zhang",
      "userId": "05735583802406577666"
     },
     "user_tz": 420
    },
    "id": "gQd4zWK2CqCR",
    "outputId": "4a527fb8-66e4-451a-8f26-2fbab89ebd67"
   },
   "outputs": [],
   "source": [
    "df.plot.scatter(x='radio', y='sales')\n",
    "plt.show()"
   ]
  },
  {
   "cell_type": "code",
   "execution_count": null,
   "metadata": {
    "colab": {
     "base_uri": "https://localhost:8080/",
     "height": 430
    },
    "executionInfo": {
     "elapsed": 487,
     "status": "ok",
     "timestamp": 1715923433828,
     "user": {
      "displayName": "Raymond Zhang",
      "userId": "05735583802406577666"
     },
     "user_tz": 420
    },
    "id": "CrNDL715Cv9e",
    "outputId": "d6da6f0b-a1a4-4b90-a10a-2df01862be33"
   },
   "outputs": [],
   "source": [
    "df.boxplot()\n",
    "plt.show()"
   ]
  }
 ],
 "metadata": {
  "colab": {
   "authorship_tag": "ABX9TyPd/M7dO16PnV7x6BtknGm4",
   "provenance": []
  },
  "kernelspec": {
   "display_name": "Python 3 (ipykernel)",
   "language": "python",
   "name": "python3"
  },
  "language_info": {
   "codemirror_mode": {
    "name": "ipython",
    "version": 3
   },
   "file_extension": ".py",
   "mimetype": "text/x-python",
   "name": "python",
   "nbconvert_exporter": "python",
   "pygments_lexer": "ipython3",
   "version": "3.10.4"
  }
 },
 "nbformat": 4,
 "nbformat_minor": 1
}
